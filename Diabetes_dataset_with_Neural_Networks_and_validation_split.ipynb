{
  "nbformat": 4,
  "nbformat_minor": 0,
  "metadata": {
    "colab": {
      "name": "Diabetes dataset with Neural Networks and validation split.ipynb",
      "provenance": []
    },
    "kernelspec": {
      "name": "python3",
      "display_name": "Python 3"
    }
  },
  "cells": [
    {
      "cell_type": "code",
      "metadata": {
        "id": "87pa5854IpSA",
        "colab": {
          "base_uri": "https://localhost:8080/"
        },
        "outputId": "62df717c-018b-4526-b46d-cbd5a54cc514"
      },
      "source": [
        "import tensorflow as tf\n",
        "print(tf.__version__)\n",
        "\n",
        "# Load the diabetes dataset\n",
        "from sklearn.datasets import load_diabetes\n",
        "\n",
        "diabetes_dataset = load_diabetes()\n",
        "print(diabetes_dataset['DESCR'])\n",
        "\n",
        "# Save the input and target variables\n",
        "data = diabetes_dataset['data']\n",
        "targets = diabetes_dataset['target']\n",
        "\n",
        "# Normalise the target data (this will make clearer training curves)\n",
        "targets = (targets - targets.mean(axis = 0)) / targets.std()"
      ],
      "execution_count": 1,
      "outputs": [
        {
          "output_type": "stream",
          "text": [
            "2.4.1\n",
            ".. _diabetes_dataset:\n",
            "\n",
            "Diabetes dataset\n",
            "----------------\n",
            "\n",
            "Ten baseline variables, age, sex, body mass index, average blood\n",
            "pressure, and six blood serum measurements were obtained for each of n =\n",
            "442 diabetes patients, as well as the response of interest, a\n",
            "quantitative measure of disease progression one year after baseline.\n",
            "\n",
            "**Data Set Characteristics:**\n",
            "\n",
            "  :Number of Instances: 442\n",
            "\n",
            "  :Number of Attributes: First 10 columns are numeric predictive values\n",
            "\n",
            "  :Target: Column 11 is a quantitative measure of disease progression one year after baseline\n",
            "\n",
            "  :Attribute Information:\n",
            "      - Age\n",
            "      - Sex\n",
            "      - Body mass index\n",
            "      - Average blood pressure\n",
            "      - S1\n",
            "      - S2\n",
            "      - S3\n",
            "      - S4\n",
            "      - S5\n",
            "      - S6\n",
            "\n",
            "Note: Each of these 10 feature variables have been mean centered and scaled by the standard deviation times `n_samples` (i.e. the sum of squares of each column totals 1).\n",
            "\n",
            "Source URL:\n",
            "https://www4.stat.ncsu.edu/~boos/var.select/diabetes.html\n",
            "\n",
            "For more information see:\n",
            "Bradley Efron, Trevor Hastie, Iain Johnstone and Robert Tibshirani (2004) \"Least Angle Regression,\" Annals of Statistics (with discussion), 407-499.\n",
            "(https://web.stanford.edu/~hastie/Papers/LARS/LeastAngle_2002.pdf)\n"
          ],
          "name": "stdout"
        }
      ]
    },
    {
      "cell_type": "code",
      "metadata": {
        "id": "Tu8VmAlJJAFi",
        "colab": {
          "base_uri": "https://localhost:8080/"
        },
        "outputId": "b93060a5-cdc4-4902-e5ec-eeed15c2ec06"
      },
      "source": [
        "# Split the data into train and test sets\n",
        "from sklearn.model_selection import train_test_split\n",
        "train_data, test_data, train_targets, test_targets = train_test_split(data, targets, test_size = 0.1)\n",
        "train_data"
      ],
      "execution_count": 2,
      "outputs": [
        {
          "output_type": "execute_result",
          "data": {
            "text/plain": [
              "array([[ 0.0562386 ,  0.05068012,  0.00996123, ...,  0.03430886,\n",
              "         0.06078775,  0.03205916],\n",
              "       [-0.01641217, -0.04464164, -0.01375064, ..., -0.03949338,\n",
              "        -0.03581673, -0.03007245],\n",
              "       [ 0.0090156 ,  0.05068012,  0.06924089, ...,  0.03430886,\n",
              "         0.10329226,  0.07348023],\n",
              "       ...,\n",
              "       [ 0.01264814,  0.05068012, -0.02237314, ...,  0.03430886,\n",
              "        -0.00608025, -0.0010777 ],\n",
              "       [-0.00914709,  0.05068012,  0.00133873, ..., -0.00259226,\n",
              "         0.02671426,  0.08176444],\n",
              "       [ 0.04897352, -0.04464164, -0.04177375, ..., -0.0763945 ,\n",
              "        -0.01290794,  0.01549073]])"
            ]
          },
          "metadata": {
            "tags": []
          },
          "execution_count": 2
        }
      ]
    },
    {
      "cell_type": "code",
      "metadata": {
        "id": "gzWV2UhYJKiS"
      },
      "source": [
        "# Build the model\n",
        "from tensorflow.keras.models import Sequential\n",
        "from tensorflow.keras.layers import Dense\n",
        "\n",
        "def get_model():\n",
        "    model = Sequential([\n",
        "        Dense(128, activation=\"relu\", input_shape=(train_data.shape[1],)),\n",
        "        Dense(128, activation=\"relu\"),\n",
        "        Dense(128, activation=\"relu\"),\n",
        "        Dense(128, activation=\"relu\"),\n",
        "        Dense(128, activation=\"relu\"),\n",
        "        Dense(128, activation=\"relu\"),\n",
        "        Dense(1)\n",
        "    ])\n",
        "    return model\n",
        "\n",
        "model = get_model()"
      ],
      "execution_count": 3,
      "outputs": []
    },
    {
      "cell_type": "code",
      "metadata": {
        "id": "eIavxmqsJNSd",
        "colab": {
          "base_uri": "https://localhost:8080/"
        },
        "outputId": "38fc32ce-1c51-4667-f55b-2d46b54650fb"
      },
      "source": [
        "# Print the model summary\n",
        "model.summary()"
      ],
      "execution_count": 4,
      "outputs": [
        {
          "output_type": "stream",
          "text": [
            "Model: \"sequential\"\n",
            "_________________________________________________________________\n",
            "Layer (type)                 Output Shape              Param #   \n",
            "=================================================================\n",
            "dense (Dense)                (None, 128)               1408      \n",
            "_________________________________________________________________\n",
            "dense_1 (Dense)              (None, 128)               16512     \n",
            "_________________________________________________________________\n",
            "dense_2 (Dense)              (None, 128)               16512     \n",
            "_________________________________________________________________\n",
            "dense_3 (Dense)              (None, 128)               16512     \n",
            "_________________________________________________________________\n",
            "dense_4 (Dense)              (None, 128)               16512     \n",
            "_________________________________________________________________\n",
            "dense_5 (Dense)              (None, 128)               16512     \n",
            "_________________________________________________________________\n",
            "dense_6 (Dense)              (None, 1)                 129       \n",
            "=================================================================\n",
            "Total params: 84,097\n",
            "Trainable params: 84,097\n",
            "Non-trainable params: 0\n",
            "_________________________________________________________________\n"
          ],
          "name": "stdout"
        }
      ]
    },
    {
      "cell_type": "code",
      "metadata": {
        "id": "lys4STNzJP_k"
      },
      "source": [
        "# Compile the model\n",
        "model.compile(optimizer = 'adam', loss = 'mae', metrics = tf.keras.metrics.RootMeanSquaredError())"
      ],
      "execution_count": 19,
      "outputs": []
    },
    {
      "cell_type": "code",
      "metadata": {
        "id": "LwUa0X6MJSA2",
        "colab": {
          "base_uri": "https://localhost:8080/"
        },
        "outputId": "f1465bd5-c432-405c-f95f-f1490c1370de"
      },
      "source": [
        "# Train the model, with some of the data reserved for validation\n",
        "history = model.fit(train_data, train_targets, epochs = 100, \n",
        "                   validation_split = 0.15, batch_size = 64)"
      ],
      "execution_count": 20,
      "outputs": [
        {
          "output_type": "stream",
          "text": [
            "Epoch 1/100\n",
            "6/6 [==============================] - 1s 45ms/step - loss: 0.2553 - root_mean_squared_error: 0.3521 - val_loss: 0.7052 - val_root_mean_squared_error: 1.0037\n",
            "Epoch 2/100\n",
            "6/6 [==============================] - 0s 11ms/step - loss: 0.2440 - root_mean_squared_error: 0.3371 - val_loss: 0.7185 - val_root_mean_squared_error: 0.9244\n",
            "Epoch 3/100\n",
            "6/6 [==============================] - 0s 14ms/step - loss: 0.1715 - root_mean_squared_error: 0.2264 - val_loss: 0.6879 - val_root_mean_squared_error: 0.9444\n",
            "Epoch 4/100\n",
            "6/6 [==============================] - 0s 13ms/step - loss: 0.1585 - root_mean_squared_error: 0.2278 - val_loss: 0.7166 - val_root_mean_squared_error: 1.0058\n",
            "Epoch 5/100\n",
            "6/6 [==============================] - 0s 12ms/step - loss: 0.1966 - root_mean_squared_error: 0.2625 - val_loss: 0.6873 - val_root_mean_squared_error: 0.9004\n",
            "Epoch 6/100\n",
            "6/6 [==============================] - 0s 11ms/step - loss: 0.1435 - root_mean_squared_error: 0.2128 - val_loss: 0.7133 - val_root_mean_squared_error: 0.8959\n",
            "Epoch 7/100\n",
            "6/6 [==============================] - 0s 12ms/step - loss: 0.1783 - root_mean_squared_error: 0.2250 - val_loss: 0.6726 - val_root_mean_squared_error: 0.9444\n",
            "Epoch 8/100\n",
            "6/6 [==============================] - 0s 13ms/step - loss: 0.1472 - root_mean_squared_error: 0.2061 - val_loss: 0.6471 - val_root_mean_squared_error: 0.9056\n",
            "Epoch 9/100\n",
            "6/6 [==============================] - 0s 12ms/step - loss: 0.1059 - root_mean_squared_error: 0.1665 - val_loss: 0.6998 - val_root_mean_squared_error: 0.9336\n",
            "Epoch 10/100\n",
            "6/6 [==============================] - 0s 12ms/step - loss: 0.1170 - root_mean_squared_error: 0.1814 - val_loss: 0.7034 - val_root_mean_squared_error: 0.9034\n",
            "Epoch 11/100\n",
            "6/6 [==============================] - 0s 12ms/step - loss: 0.1185 - root_mean_squared_error: 0.1809 - val_loss: 0.6641 - val_root_mean_squared_error: 0.9020\n",
            "Epoch 12/100\n",
            "6/6 [==============================] - 0s 14ms/step - loss: 0.0869 - root_mean_squared_error: 0.1533 - val_loss: 0.6901 - val_root_mean_squared_error: 0.9203\n",
            "Epoch 13/100\n",
            "6/6 [==============================] - 0s 12ms/step - loss: 0.0936 - root_mean_squared_error: 0.1475 - val_loss: 0.6926 - val_root_mean_squared_error: 0.8867\n",
            "Epoch 14/100\n",
            "6/6 [==============================] - 0s 12ms/step - loss: 0.1189 - root_mean_squared_error: 0.1768 - val_loss: 0.6933 - val_root_mean_squared_error: 0.9095\n",
            "Epoch 15/100\n",
            "6/6 [==============================] - 0s 12ms/step - loss: 0.1079 - root_mean_squared_error: 0.1670 - val_loss: 0.6943 - val_root_mean_squared_error: 0.9222\n",
            "Epoch 16/100\n",
            "6/6 [==============================] - 0s 12ms/step - loss: 0.1005 - root_mean_squared_error: 0.1627 - val_loss: 0.6528 - val_root_mean_squared_error: 0.9039\n",
            "Epoch 17/100\n",
            "6/6 [==============================] - 0s 12ms/step - loss: 0.0948 - root_mean_squared_error: 0.1591 - val_loss: 0.6854 - val_root_mean_squared_error: 0.9244\n",
            "Epoch 18/100\n",
            "6/6 [==============================] - 0s 13ms/step - loss: 0.0853 - root_mean_squared_error: 0.1473 - val_loss: 0.6792 - val_root_mean_squared_error: 0.9098\n",
            "Epoch 19/100\n",
            "6/6 [==============================] - 0s 13ms/step - loss: 0.0835 - root_mean_squared_error: 0.1443 - val_loss: 0.6864 - val_root_mean_squared_error: 0.9126\n",
            "Epoch 20/100\n",
            "6/6 [==============================] - 0s 14ms/step - loss: 0.0848 - root_mean_squared_error: 0.1534 - val_loss: 0.6622 - val_root_mean_squared_error: 0.9177\n",
            "Epoch 21/100\n",
            "6/6 [==============================] - 0s 12ms/step - loss: 0.0838 - root_mean_squared_error: 0.1348 - val_loss: 0.6834 - val_root_mean_squared_error: 0.9347\n",
            "Epoch 22/100\n",
            "6/6 [==============================] - 0s 12ms/step - loss: 0.1079 - root_mean_squared_error: 0.1609 - val_loss: 0.7122 - val_root_mean_squared_error: 0.9781\n",
            "Epoch 23/100\n",
            "6/6 [==============================] - 0s 13ms/step - loss: 0.1009 - root_mean_squared_error: 0.1656 - val_loss: 0.6934 - val_root_mean_squared_error: 0.9475\n",
            "Epoch 24/100\n",
            "6/6 [==============================] - 0s 12ms/step - loss: 0.0924 - root_mean_squared_error: 0.1510 - val_loss: 0.6772 - val_root_mean_squared_error: 0.9279\n",
            "Epoch 25/100\n",
            "6/6 [==============================] - 0s 11ms/step - loss: 0.0877 - root_mean_squared_error: 0.1436 - val_loss: 0.6897 - val_root_mean_squared_error: 0.9341\n",
            "Epoch 26/100\n",
            "6/6 [==============================] - 0s 15ms/step - loss: 0.0945 - root_mean_squared_error: 0.1366 - val_loss: 0.6700 - val_root_mean_squared_error: 0.9026\n",
            "Epoch 27/100\n",
            "6/6 [==============================] - 0s 13ms/step - loss: 0.0803 - root_mean_squared_error: 0.1311 - val_loss: 0.6694 - val_root_mean_squared_error: 0.8836\n",
            "Epoch 28/100\n",
            "6/6 [==============================] - 0s 14ms/step - loss: 0.0969 - root_mean_squared_error: 0.1499 - val_loss: 0.6956 - val_root_mean_squared_error: 0.9067\n",
            "Epoch 29/100\n",
            "6/6 [==============================] - 0s 12ms/step - loss: 0.0993 - root_mean_squared_error: 0.1483 - val_loss: 0.6884 - val_root_mean_squared_error: 0.9254\n",
            "Epoch 30/100\n",
            "6/6 [==============================] - 0s 12ms/step - loss: 0.0853 - root_mean_squared_error: 0.1381 - val_loss: 0.6560 - val_root_mean_squared_error: 0.8758\n",
            "Epoch 31/100\n",
            "6/6 [==============================] - 0s 13ms/step - loss: 0.0840 - root_mean_squared_error: 0.1383 - val_loss: 0.6857 - val_root_mean_squared_error: 0.9132\n",
            "Epoch 32/100\n",
            "6/6 [==============================] - 0s 12ms/step - loss: 0.0842 - root_mean_squared_error: 0.1455 - val_loss: 0.6824 - val_root_mean_squared_error: 0.9025\n",
            "Epoch 33/100\n",
            "6/6 [==============================] - 0s 13ms/step - loss: 0.0834 - root_mean_squared_error: 0.1408 - val_loss: 0.6746 - val_root_mean_squared_error: 0.9076\n",
            "Epoch 34/100\n",
            "6/6 [==============================] - 0s 12ms/step - loss: 0.0810 - root_mean_squared_error: 0.1394 - val_loss: 0.6806 - val_root_mean_squared_error: 0.9169\n",
            "Epoch 35/100\n",
            "6/6 [==============================] - 0s 12ms/step - loss: 0.0882 - root_mean_squared_error: 0.1502 - val_loss: 0.6623 - val_root_mean_squared_error: 0.9163\n",
            "Epoch 36/100\n",
            "6/6 [==============================] - 0s 13ms/step - loss: 0.0929 - root_mean_squared_error: 0.1452 - val_loss: 0.6663 - val_root_mean_squared_error: 0.9121\n",
            "Epoch 37/100\n",
            "6/6 [==============================] - 0s 14ms/step - loss: 0.0834 - root_mean_squared_error: 0.1229 - val_loss: 0.6746 - val_root_mean_squared_error: 0.9218\n",
            "Epoch 38/100\n",
            "6/6 [==============================] - 0s 13ms/step - loss: 0.1003 - root_mean_squared_error: 0.1622 - val_loss: 0.6652 - val_root_mean_squared_error: 0.9079\n",
            "Epoch 39/100\n",
            "6/6 [==============================] - 0s 12ms/step - loss: 0.0902 - root_mean_squared_error: 0.1428 - val_loss: 0.6707 - val_root_mean_squared_error: 0.9102\n",
            "Epoch 40/100\n",
            "6/6 [==============================] - 0s 12ms/step - loss: 0.0810 - root_mean_squared_error: 0.1352 - val_loss: 0.6677 - val_root_mean_squared_error: 0.9113\n",
            "Epoch 41/100\n",
            "6/6 [==============================] - 0s 13ms/step - loss: 0.0825 - root_mean_squared_error: 0.1573 - val_loss: 0.6728 - val_root_mean_squared_error: 0.8948\n",
            "Epoch 42/100\n",
            "6/6 [==============================] - 0s 13ms/step - loss: 0.0868 - root_mean_squared_error: 0.1390 - val_loss: 0.6646 - val_root_mean_squared_error: 0.8913\n",
            "Epoch 43/100\n",
            "6/6 [==============================] - 0s 13ms/step - loss: 0.0887 - root_mean_squared_error: 0.1489 - val_loss: 0.6678 - val_root_mean_squared_error: 0.8838\n",
            "Epoch 44/100\n",
            "6/6 [==============================] - 0s 14ms/step - loss: 0.0822 - root_mean_squared_error: 0.1443 - val_loss: 0.6764 - val_root_mean_squared_error: 0.9202\n",
            "Epoch 45/100\n",
            "6/6 [==============================] - 0s 13ms/step - loss: 0.0790 - root_mean_squared_error: 0.1235 - val_loss: 0.6700 - val_root_mean_squared_error: 0.9335\n",
            "Epoch 46/100\n",
            "6/6 [==============================] - 0s 13ms/step - loss: 0.0766 - root_mean_squared_error: 0.1172 - val_loss: 0.6567 - val_root_mean_squared_error: 0.9073\n",
            "Epoch 47/100\n",
            "6/6 [==============================] - 0s 12ms/step - loss: 0.0660 - root_mean_squared_error: 0.1225 - val_loss: 0.6731 - val_root_mean_squared_error: 0.8857\n",
            "Epoch 48/100\n",
            "6/6 [==============================] - 0s 12ms/step - loss: 0.0920 - root_mean_squared_error: 0.1505 - val_loss: 0.6849 - val_root_mean_squared_error: 0.8932\n",
            "Epoch 49/100\n",
            "6/6 [==============================] - 0s 12ms/step - loss: 0.0981 - root_mean_squared_error: 0.1467 - val_loss: 0.6710 - val_root_mean_squared_error: 0.9114\n",
            "Epoch 50/100\n",
            "6/6 [==============================] - 0s 11ms/step - loss: 0.0953 - root_mean_squared_error: 0.1538 - val_loss: 0.6644 - val_root_mean_squared_error: 0.8946\n",
            "Epoch 51/100\n",
            "6/6 [==============================] - 0s 12ms/step - loss: 0.0945 - root_mean_squared_error: 0.1471 - val_loss: 0.6855 - val_root_mean_squared_error: 0.9459\n",
            "Epoch 52/100\n",
            "6/6 [==============================] - 0s 12ms/step - loss: 0.0913 - root_mean_squared_error: 0.1385 - val_loss: 0.6911 - val_root_mean_squared_error: 0.9235\n",
            "Epoch 53/100\n",
            "6/6 [==============================] - 0s 13ms/step - loss: 0.0801 - root_mean_squared_error: 0.1336 - val_loss: 0.6738 - val_root_mean_squared_error: 0.8978\n",
            "Epoch 54/100\n",
            "6/6 [==============================] - 0s 12ms/step - loss: 0.0695 - root_mean_squared_error: 0.1086 - val_loss: 0.6839 - val_root_mean_squared_error: 0.9526\n",
            "Epoch 55/100\n",
            "6/6 [==============================] - 0s 14ms/step - loss: 0.0931 - root_mean_squared_error: 0.1346 - val_loss: 0.6771 - val_root_mean_squared_error: 0.9311\n",
            "Epoch 56/100\n",
            "6/6 [==============================] - 0s 13ms/step - loss: 0.0990 - root_mean_squared_error: 0.1530 - val_loss: 0.6792 - val_root_mean_squared_error: 0.9434\n",
            "Epoch 57/100\n",
            "6/6 [==============================] - 0s 13ms/step - loss: 0.0873 - root_mean_squared_error: 0.1374 - val_loss: 0.6925 - val_root_mean_squared_error: 0.9456\n",
            "Epoch 58/100\n",
            "6/6 [==============================] - 0s 13ms/step - loss: 0.0929 - root_mean_squared_error: 0.1535 - val_loss: 0.6681 - val_root_mean_squared_error: 0.9029\n",
            "Epoch 59/100\n",
            "6/6 [==============================] - 0s 12ms/step - loss: 0.0881 - root_mean_squared_error: 0.1414 - val_loss: 0.6857 - val_root_mean_squared_error: 0.9422\n",
            "Epoch 60/100\n",
            "6/6 [==============================] - 0s 12ms/step - loss: 0.1112 - root_mean_squared_error: 0.1770 - val_loss: 0.6818 - val_root_mean_squared_error: 0.9372\n",
            "Epoch 61/100\n",
            "6/6 [==============================] - 0s 13ms/step - loss: 0.0905 - root_mean_squared_error: 0.1502 - val_loss: 0.6712 - val_root_mean_squared_error: 0.9327\n",
            "Epoch 62/100\n",
            "6/6 [==============================] - 0s 12ms/step - loss: 0.0779 - root_mean_squared_error: 0.1236 - val_loss: 0.6650 - val_root_mean_squared_error: 0.9293\n",
            "Epoch 63/100\n",
            "6/6 [==============================] - 0s 12ms/step - loss: 0.0875 - root_mean_squared_error: 0.1282 - val_loss: 0.6701 - val_root_mean_squared_error: 0.9126\n",
            "Epoch 64/100\n",
            "6/6 [==============================] - 0s 11ms/step - loss: 0.0636 - root_mean_squared_error: 0.1021 - val_loss: 0.6778 - val_root_mean_squared_error: 0.9392\n",
            "Epoch 65/100\n",
            "6/6 [==============================] - 0s 12ms/step - loss: 0.0696 - root_mean_squared_error: 0.1216 - val_loss: 0.6569 - val_root_mean_squared_error: 0.9090\n",
            "Epoch 66/100\n",
            "6/6 [==============================] - 0s 14ms/step - loss: 0.0557 - root_mean_squared_error: 0.1013 - val_loss: 0.6677 - val_root_mean_squared_error: 0.9119\n",
            "Epoch 67/100\n",
            "6/6 [==============================] - 0s 12ms/step - loss: 0.0628 - root_mean_squared_error: 0.1154 - val_loss: 0.6483 - val_root_mean_squared_error: 0.8941\n",
            "Epoch 68/100\n",
            "6/6 [==============================] - 0s 13ms/step - loss: 0.0561 - root_mean_squared_error: 0.1084 - val_loss: 0.6600 - val_root_mean_squared_error: 0.8940\n",
            "Epoch 69/100\n",
            "6/6 [==============================] - 0s 14ms/step - loss: 0.0616 - root_mean_squared_error: 0.1163 - val_loss: 0.6818 - val_root_mean_squared_error: 0.9548\n",
            "Epoch 70/100\n",
            "6/6 [==============================] - 0s 13ms/step - loss: 0.0920 - root_mean_squared_error: 0.1403 - val_loss: 0.6548 - val_root_mean_squared_error: 0.9194\n",
            "Epoch 71/100\n",
            "6/6 [==============================] - 0s 12ms/step - loss: 0.0845 - root_mean_squared_error: 0.1456 - val_loss: 0.6766 - val_root_mean_squared_error: 0.9064\n",
            "Epoch 72/100\n",
            "6/6 [==============================] - 0s 12ms/step - loss: 0.0921 - root_mean_squared_error: 0.1559 - val_loss: 0.6693 - val_root_mean_squared_error: 0.8894\n",
            "Epoch 73/100\n",
            "6/6 [==============================] - 0s 14ms/step - loss: 0.0846 - root_mean_squared_error: 0.1282 - val_loss: 0.6749 - val_root_mean_squared_error: 0.9023\n",
            "Epoch 74/100\n",
            "6/6 [==============================] - 0s 13ms/step - loss: 0.0910 - root_mean_squared_error: 0.1428 - val_loss: 0.6838 - val_root_mean_squared_error: 0.9257\n",
            "Epoch 75/100\n",
            "6/6 [==============================] - 0s 13ms/step - loss: 0.0649 - root_mean_squared_error: 0.0987 - val_loss: 0.6673 - val_root_mean_squared_error: 0.9181\n",
            "Epoch 76/100\n",
            "6/6 [==============================] - 0s 12ms/step - loss: 0.0854 - root_mean_squared_error: 0.1394 - val_loss: 0.7093 - val_root_mean_squared_error: 0.9961\n",
            "Epoch 77/100\n",
            "6/6 [==============================] - 0s 13ms/step - loss: 0.1215 - root_mean_squared_error: 0.1644 - val_loss: 0.6731 - val_root_mean_squared_error: 0.9234\n",
            "Epoch 78/100\n",
            "6/6 [==============================] - 0s 12ms/step - loss: 0.1105 - root_mean_squared_error: 0.1648 - val_loss: 0.6979 - val_root_mean_squared_error: 0.9121\n",
            "Epoch 79/100\n",
            "6/6 [==============================] - 0s 13ms/step - loss: 0.0918 - root_mean_squared_error: 0.1388 - val_loss: 0.6948 - val_root_mean_squared_error: 0.9356\n",
            "Epoch 80/100\n",
            "6/6 [==============================] - 0s 13ms/step - loss: 0.0829 - root_mean_squared_error: 0.1223 - val_loss: 0.6763 - val_root_mean_squared_error: 0.9058\n",
            "Epoch 81/100\n",
            "6/6 [==============================] - 0s 12ms/step - loss: 0.0761 - root_mean_squared_error: 0.1277 - val_loss: 0.6567 - val_root_mean_squared_error: 0.8766\n",
            "Epoch 82/100\n",
            "6/6 [==============================] - 0s 13ms/step - loss: 0.0741 - root_mean_squared_error: 0.1114 - val_loss: 0.6701 - val_root_mean_squared_error: 0.8927\n",
            "Epoch 83/100\n",
            "6/6 [==============================] - 0s 12ms/step - loss: 0.0704 - root_mean_squared_error: 0.1152 - val_loss: 0.6564 - val_root_mean_squared_error: 0.9015\n",
            "Epoch 84/100\n",
            "6/6 [==============================] - 0s 13ms/step - loss: 0.0674 - root_mean_squared_error: 0.1001 - val_loss: 0.6563 - val_root_mean_squared_error: 0.8949\n",
            "Epoch 85/100\n",
            "6/6 [==============================] - 0s 12ms/step - loss: 0.0672 - root_mean_squared_error: 0.1202 - val_loss: 0.6478 - val_root_mean_squared_error: 0.8900\n",
            "Epoch 86/100\n",
            "6/6 [==============================] - 0s 13ms/step - loss: 0.0663 - root_mean_squared_error: 0.1319 - val_loss: 0.6617 - val_root_mean_squared_error: 0.8901\n",
            "Epoch 87/100\n",
            "6/6 [==============================] - 0s 12ms/step - loss: 0.0589 - root_mean_squared_error: 0.1001 - val_loss: 0.6766 - val_root_mean_squared_error: 0.8894\n",
            "Epoch 88/100\n",
            "6/6 [==============================] - 0s 12ms/step - loss: 0.0919 - root_mean_squared_error: 0.1475 - val_loss: 0.6657 - val_root_mean_squared_error: 0.8883\n",
            "Epoch 89/100\n",
            "6/6 [==============================] - 0s 13ms/step - loss: 0.0774 - root_mean_squared_error: 0.1191 - val_loss: 0.6476 - val_root_mean_squared_error: 0.8657\n",
            "Epoch 90/100\n",
            "6/6 [==============================] - 0s 12ms/step - loss: 0.0803 - root_mean_squared_error: 0.1260 - val_loss: 0.6774 - val_root_mean_squared_error: 0.8831\n",
            "Epoch 91/100\n",
            "6/6 [==============================] - 0s 12ms/step - loss: 0.0940 - root_mean_squared_error: 0.1417 - val_loss: 0.6646 - val_root_mean_squared_error: 0.8855\n",
            "Epoch 92/100\n",
            "6/6 [==============================] - 0s 12ms/step - loss: 0.0815 - root_mean_squared_error: 0.1240 - val_loss: 0.6578 - val_root_mean_squared_error: 0.8794\n",
            "Epoch 93/100\n",
            "6/6 [==============================] - 0s 13ms/step - loss: 0.0662 - root_mean_squared_error: 0.1000 - val_loss: 0.6567 - val_root_mean_squared_error: 0.8842\n",
            "Epoch 94/100\n",
            "6/6 [==============================] - 0s 14ms/step - loss: 0.0638 - root_mean_squared_error: 0.1107 - val_loss: 0.6587 - val_root_mean_squared_error: 0.9047\n",
            "Epoch 95/100\n",
            "6/6 [==============================] - 0s 12ms/step - loss: 0.0752 - root_mean_squared_error: 0.1308 - val_loss: 0.6781 - val_root_mean_squared_error: 0.9091\n",
            "Epoch 96/100\n",
            "6/6 [==============================] - 0s 13ms/step - loss: 0.0667 - root_mean_squared_error: 0.1135 - val_loss: 0.6742 - val_root_mean_squared_error: 0.9017\n",
            "Epoch 97/100\n",
            "6/6 [==============================] - 0s 13ms/step - loss: 0.0801 - root_mean_squared_error: 0.1191 - val_loss: 0.6731 - val_root_mean_squared_error: 0.9089\n",
            "Epoch 98/100\n",
            "6/6 [==============================] - 0s 13ms/step - loss: 0.0820 - root_mean_squared_error: 0.1263 - val_loss: 0.6701 - val_root_mean_squared_error: 0.9305\n",
            "Epoch 99/100\n",
            "6/6 [==============================] - 0s 15ms/step - loss: 0.0970 - root_mean_squared_error: 0.1612 - val_loss: 0.6743 - val_root_mean_squared_error: 0.9106\n",
            "Epoch 100/100\n",
            "6/6 [==============================] - 0s 13ms/step - loss: 0.0645 - root_mean_squared_error: 0.1002 - val_loss: 0.6600 - val_root_mean_squared_error: 0.9191\n"
          ],
          "name": "stdout"
        }
      ]
    },
    {
      "cell_type": "code",
      "metadata": {
        "id": "3BjE5Pq0JUDP",
        "colab": {
          "base_uri": "https://localhost:8080/"
        },
        "outputId": "a7bbbda8-f62b-4718-b977-55d3744f6079"
      },
      "source": [
        "# Evaluate the model on the test set\n",
        "model.evaluate(test_data, test_targets)"
      ],
      "execution_count": 21,
      "outputs": [
        {
          "output_type": "stream",
          "text": [
            "2/2 [==============================] - 0s 6ms/step - loss: 0.6962 - root_mean_squared_error: 0.8172\n"
          ],
          "name": "stdout"
        },
        {
          "output_type": "execute_result",
          "data": {
            "text/plain": [
              "[0.6962467432022095, 0.8172350525856018]"
            ]
          },
          "metadata": {
            "tags": []
          },
          "execution_count": 21
        }
      ]
    },
    {
      "cell_type": "code",
      "metadata": {
        "id": "2yEQqFiIJzDS"
      },
      "source": [
        "import matplotlib.pyplot as plt\n",
        "%matplotlib inline"
      ],
      "execution_count": 8,
      "outputs": []
    },
    {
      "cell_type": "code",
      "metadata": {
        "id": "PV0E-ZX2Jz5F",
        "colab": {
          "base_uri": "https://localhost:8080/",
          "height": 295
        },
        "outputId": "95e4463a-5d18-4532-c3b6-c991df7a13fd"
      },
      "source": [
        "# Plot the training and validation loss\n",
        "\n",
        "plt.plot(history.history['loss'])\n",
        "plt.plot(history.history['val_loss'])\n",
        "plt.title('Loss vs. epochs')\n",
        "plt.ylabel('Loss')\n",
        "plt.xlabel('Epoch')\n",
        "plt.legend(['Training', 'Validation'], loc='upper right')\n",
        "plt.show()"
      ],
      "execution_count": 9,
      "outputs": [
        {
          "output_type": "display_data",
          "data": {
            "image/png": "[encoded data removed]",
            "text/plain": [
              "<Figure size 432x288 with 1 Axes>"
            ]
          },
          "metadata": {
            "tags": [],
            "needs_background": "light"
          }
        }
      ]
    },
    {
      "cell_type": "code",
      "metadata": {
        "id": "MuMsv2rVJ1pq"
      },
      "source": [
        "predictions = model.predict(test_data)"
      ],
      "execution_count": 10,
      "outputs": []
    },
    {
      "cell_type": "code",
      "metadata": {
        "id": "gm7D35oQATYP",
        "colab": {
          "base_uri": "https://localhost:8080/",
          "height": 281
        },
        "outputId": "6d459ff7-317e-44d2-fb12-ec77883bfec1"
      },
      "source": [
        "plt.plot(predictions)\n",
        "plt.plot(test_targets)\n",
        "plt.title('Actual values vs. Predictions')\n",
        "plt.show()"
      ],
      "execution_count": 11,
      "outputs": [
        {
          "output_type": "display_data",
          "data": {
            "image/png": "[encoded data removed]",
            "text/plain": [
              "<Figure size 432x288 with 1 Axes>"
            ]
          },
          "metadata": {
            "tags": [],
            "needs_background": "light"
          }
        }
      ]
    }
  ]
}